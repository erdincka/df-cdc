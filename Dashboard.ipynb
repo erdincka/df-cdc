{
  "cells": [
    {
      "cell_type": "code",
      "execution_count": 0,
      "metadata": {
        "autoscroll": "auto"
      },
      "outputs": [],
      "source": [
        "%hive(hive)\n",
        "SHOW DATABASES;\n",
        "\n",
        "SELECT * from default.users LIMIT 10;\n"
      ]
    },
    {
      "cell_type": "code",
      "execution_count": 1,
      "metadata": {
        "autoscroll": "auto"
      },
      "outputs": [],
      "source": [
        "%hive(hive)\n",
        "\n",
        "SELECT gender, COUNT(*) AS count FROM default.users GROUP BY gender;\n",
        "\n"
      ]
    },
    {
      "cell_type": "code",
      "execution_count": 2,
      "metadata": {
        "autoscroll": "auto"
      },
      "outputs": [],
      "source": [
        "%hive(hive)\n",
        "\n",
        "SELECT country, COUNT(*) AS count FROM default.users GROUP BY country ORDER BY count DESC LIMIT 10;"
      ]
    },
    {
      "cell_type": "code",
      "execution_count": 3,
      "metadata": {
        "autoscroll": "auto"
      },
      "outputs": [],
      "source": [
        "%hive(hive)\n",
        "\n",
        "SELECT COUNT(*) as TotalUsers from default.users"
      ]
    }
  ],
  "metadata": {
    "kernelspec": {
      "language": "scala",
      "name": "spark2-scala"
    },
    "language_info": {
      "codemirror_mode": "text/x-scala",
      "file_extension": ".scala",
      "mimetype": "text/x-scala",
      "name": "scala",
      "pygments_lexer": "scala"
    },
    "name": "Dashboard"
  },
  "nbformat": 4,
  "nbformat_minor": 2
}
